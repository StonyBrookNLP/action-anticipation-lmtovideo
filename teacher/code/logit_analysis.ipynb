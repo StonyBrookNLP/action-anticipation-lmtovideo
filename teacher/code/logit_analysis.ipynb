{
 "cells": [
  {
   "cell_type": "code",
   "execution_count": null,
   "metadata": {},
   "outputs": [],
   "source": [
    "import numpy as np\n",
    "from torch.utils.data import Dataset, DataLoader\n",
    "from transformers import BertTokenizer, RobertaTokenizer, BertModel, AdamW, RobertaModel, BertTokenizerFast, RobertaTokenizerFast, get_linear_schedule_with_warmup\n",
    "from tqdm import tqdm\n",
    "from torch.nn.utils.rnn import pad_sequence\n",
    "import torch.nn.functional as F\n",
    "import torch\n",
    "import pdb\n",
    "from tqdm import tqdm\n",
    "import torch.nn as nn\n",
    "import pickle\n",
    "import argparse\n",
    "import os\n",
    "import time\n",
    "import pandas as pd\n",
    "from sklearn.metrics import confusion_matrix\n",
    "from sklearn.utils.class_weight import compute_class_weight as cls_weigh\n",
    "from warnings import simplefilter\n",
    "from egtea_finetuning import compute_performance\n",
    "import gc\n",
    "gc.disable()"
   ]
  },
  {
   "attachments": {},
   "cell_type": "markdown",
   "metadata": {},
   "source": [
    "### Many-shot classes"
   ]
  },
  {
   "cell_type": "code",
   "execution_count": null,
   "metadata": {},
   "outputs": [],
   "source": [
    "labels = pd.read_csv('./../data/epic55_action_seq/actions.csv')\n",
    "many_shot_labels = pd.read_csv('./../data/epic55_action_seq/EPIC_many_shot_action.csv')\n",
    "many_shot_labels = many_shot_labels.merge(labels, left_on=['verb_class', 'noun_class'], right_on=['verb', 'noun']).id.to_numpy()\n",
    "labels_mapping = {x['id']: {'label': x['action']} for idx, x in labels.iterrows() }\n",
    "labels_mapping_manyshot = {x['id']: {'label': x['action']} for idx, x in labels.iterrows() if x['id'] in many_shot_labels}\n",
    "\n",
    "file_pi = open(os.path.join('./../data/epic55_action_seq', 'Manyshot_actions.pkl'), 'wb') \n",
    "pickle.dump(many_shot_labels, file_pi)\n",
    "file_pi.close()\n",
    "\n",
    "with open(os.path.join('./../data/epic55_action_seq', 'Manyshot_actions.pkl'), \"rb\") as input_file:\n",
    "    many_shot_labels = pickle.load(input_file)"
   ]
  },
  {
   "attachments": {},
   "cell_type": "markdown",
   "metadata": {},
   "source": [
    "### <u>Performance computation for both teacher & student</u>"
   ]
  },
  {
   "cell_type": "code",
   "execution_count": null,
   "metadata": {},
   "outputs": [],
   "source": [
    "def compute_epic_metrics(path, teacher = True):\n",
    "    with open(path, \"rb\") as input_file:\n",
    "        epic_pred = pickle.load(input_file)\n",
    "\n",
    "    if teacher == False:\n",
    "        logit = epic_pred['logits']\n",
    "        pred = logit.argmax( axis  = 1)\n",
    "        target = epic_pred['target']\n",
    "    else:\n",
    "        target = np.array([dict['target'] for dict in epic_pred])\n",
    "        logit = np.concatenate([dict['logit_action'].reshape(1, -1) for dict in epic_pred])\n",
    "        pred = np.argmax(logit, axis = 1)\n",
    "\n",
    "    K = 5\n",
    "    class_recall_list= []\n",
    "    class_recall_dict = {}\n",
    "\n",
    "    acc = np.mean(pred == target)\n",
    "    top_K_acc = np.mean([t in (-p).argsort()[:K] for t, p in zip(target, logit)])\n",
    "\n",
    "    many_shot_labels_in_test = np.array(list(set(many_shot_labels).intersection(set(target))))\n",
    "    for c in many_shot_labels_in_test:\n",
    "        target_subset = target[target == c]\n",
    "        logit_subset = logit[target == c]\n",
    "        no_of_class_instances = len(target_subset)\n",
    "\n",
    "        recall = np.mean([t in (-l).argsort()[:K]  for t, l in zip(target_subset, logit_subset)])\n",
    "        class_recall_dict[c] = recall\n",
    "\n",
    "        class_recall_list.append(recall)\n",
    "\n",
    "    many_shot_recall = np.mean(class_recall_list)\n",
    "    res_dict = {'Top_1_acc': acc, 'top_5_acc' :top_K_acc, 'm_shot_cm_recall' : many_shot_recall}\n",
    "    print(path)\n",
    "\n",
    "    conf_matrix = confusion_matrix(target, pred)\n",
    "    class_wise_acc = conf_matrix.diagonal()/conf_matrix.sum(1)\n",
    "    mean_class_acc = np.nanmean(class_wise_acc)\n",
    "\n",
    "    print(f'Top 1 accuracy is :{mean_class_acc}')\n",
    "    print(f'Top 5 accuracy is :{acc}, top-5 accuracy is :{top_K_acc}, many-shot top@5 class-mean-recall : {many_shot_recall}\\n')\n",
    "    return res_dict, class_recall_dict"
   ]
  },
  {
   "attachments": {},
   "cell_type": "markdown",
   "metadata": {},
   "source": [
    "### Generating metrics for teachers that were reported in the paper"
   ]
  },
  {
   "cell_type": "code",
   "execution_count": 11,
   "metadata": {},
   "outputs": [
    {
     "name": "stdout",
     "output_type": "stream",
     "text": [
      "./../teacher_student_Predictions/teacher/epic/alberta_E_7_B_16_T_False_W_False_chpk_1MRecipe_MT_True_hL_5.pkl\n",
      "Top 1 accuracy is :0.05919782889020815\n",
      "Top 5 accuracy is :0.1773448483631251, top-5 accuracy is :0.35930909821249246, many-shot top@5 class-recall : 0.217873340836684\n",
      "\n"
     ]
    },
    {
     "name": "stderr",
     "output_type": "stream",
     "text": [
      "/home/sayontan/.local/lib/python3.6/site-packages/ipykernel_launcher.py:37: RuntimeWarning: invalid value encountered in true_divide\n"
     ]
    },
    {
     "name": "stdout",
     "output_type": "stream",
     "text": [
      "./../teacher_student_Predictions/teacher/epic/bert_E_7_B_16_T_False_W_False_chpk_1MRecipe_MT_True_hL_5.pkl\n",
      "Top 1 accuracy is :0.05811610043532304\n",
      "Top 5 accuracy is :0.185378590078329, top-5 accuracy is :0.36171922072705365, many-shot top@5 class-recall : 0.21433124024736552\n",
      "\n"
     ]
    },
    {
     "name": "stderr",
     "output_type": "stream",
     "text": [
      "/home/sayontan/.local/lib/python3.6/site-packages/ipykernel_launcher.py:37: RuntimeWarning: invalid value encountered in true_divide\n"
     ]
    },
    {
     "name": "stdout",
     "output_type": "stream",
     "text": [
      "./../teacher_student_Predictions/teacher/epic/roberta_E_7_B_16_T_False_W_False_chpk_1MRecipe_MT_True_hL_5.pkl\n",
      "Top 1 accuracy is :0.0604298595706115\n",
      "Top 5 accuracy is :0.1847760594496887, top-5 accuracy is :0.3647318738702551, many-shot top@5 class-recall : 0.22412845956126234\n",
      "\n"
     ]
    },
    {
     "name": "stderr",
     "output_type": "stream",
     "text": [
      "/home/sayontan/.local/lib/python3.6/site-packages/ipykernel_launcher.py:37: RuntimeWarning: invalid value encountered in true_divide\n"
     ]
    },
    {
     "name": "stdout",
     "output_type": "stream",
     "text": [
      "./../teacher_student_Predictions/teacher/epic/electra_E_7_B_16_T_False_W_False_chpk_1MRecipe_MT_True_hL_5.pkl\n",
      "Top 1 accuracy is :0.0395415821617073\n",
      "Top 5 accuracy is :0.17091785499096204, top-5 accuracy is :0.3225547298654348, many-shot top@5 class-recall : 0.15183260971411158\n",
      "\n"
     ]
    },
    {
     "name": "stderr",
     "output_type": "stream",
     "text": [
      "/home/sayontan/.local/lib/python3.6/site-packages/ipykernel_launcher.py:37: RuntimeWarning: invalid value encountered in true_divide\n"
     ]
    },
    {
     "name": "stdout",
     "output_type": "stream",
     "text": [
      "./../teacher_student_Predictions/teacher/epic/distillbert_E_7_B_16_T_False_W_False_chpk_1MRecipe_MT_True_hL_5.pkl\n",
      "Top 1 accuracy is :0.06037388959043782\n",
      "Top 5 accuracy is :0.19100220927897169, top-5 accuracy is :0.36573609158465553, many-shot top@5 class-recall : 0.21555259038307426\n",
      "\n"
     ]
    },
    {
     "name": "stderr",
     "output_type": "stream",
     "text": [
      "/home/sayontan/.local/lib/python3.6/site-packages/ipykernel_launcher.py:37: RuntimeWarning: invalid value encountered in true_divide\n"
     ]
    }
   ],
   "source": [
    "teacher_pred_path = \"epic\"   # epic/egtea\n",
    "model_name = ['alberta', 'bert', 'roberta', 'electra', 'distillbert']\n",
    "for model in model_name:\n",
    "    file_name = f'./../teacher_student_Predictions/teacher/{teacher_pred_path}/{model}_E_7_B_16_T_False_W_False_chpk_1MRecipe_MT_True_hL_5.pkl'\n",
    "    # file_name = f'./../teacher_student_Predictions/teacher/{teacher_pred_path}/{model}_E_5_T_False_W_True_chpk_1MRecipe_MT_True_hL_15_SS_True_GS_True.pkl'\n",
    "    compute_epic_metrics(path=file_name, teacher=True)"
   ]
  },
  {
   "attachments": {},
   "cell_type": "markdown",
   "metadata": {},
   "source": [
    "### Generating metrics for students that were reported in the paper"
   ]
  },
  {
   "cell_type": "code",
   "execution_count": 12,
   "metadata": {},
   "outputs": [
    {
     "name": "stdout",
     "output_type": "stream",
     "text": [
      "pretrained_alberta_kldiv_wt150_t10_preds.pickle\n",
      "./../teacher_student_Predictions/student/egtea/pretrained_alberta_kldiv_wt150_t10_preds.pickle\n",
      "Top 1 accuracy is :0.36099907860155306\n",
      "Top 5 accuracy is :0.4520276953511375, top-5 accuracy is :0.7472799208704253, many-shot top@5 class-recall : 0.758117618356589\n",
      "\n",
      "pretrained_bert_kldiv_wt150_t10_preds.pickle\n",
      "./../teacher_student_Predictions/student/egtea/pretrained_bert_kldiv_wt150_t10_preds.pickle\n",
      "Top 1 accuracy is :0.3556648169387721\n",
      "Top 5 accuracy is :0.44807121661721067, top-5 accuracy is :0.7472799208704253, many-shot top@5 class-recall : 0.7740575702891879\n",
      "\n",
      "baseline_preds.pickle\n",
      "./../teacher_student_Predictions/student/egtea/baseline_preds.pickle\n",
      "Top 1 accuracy is :0.34866889151850244\n",
      "Top 5 accuracy is :0.4352126607319486, top-5 accuracy is :0.7453016815034619, many-shot top@5 class-recall : 0.7504370663378016\n",
      "\n",
      "pretrained_electra_kldiv_wt150_t10_preds.pickle\n",
      "./../teacher_student_Predictions/student/egtea/pretrained_electra_kldiv_wt150_t10_preds.pickle\n",
      "Top 1 accuracy is :0.3558330150553853\n",
      "Top 5 accuracy is :0.4485657764589515, top-5 accuracy is :0.748269040553907, many-shot top@5 class-recall : 0.7795605354612707\n",
      "\n",
      "pretrained_roberta_kldiv_wt150_t10_preds.pickle\n",
      "./../teacher_student_Predictions/student/egtea/pretrained_roberta_kldiv_wt150_t10_preds.pickle\n",
      "Top 1 accuracy is :0.36304550381686207\n",
      "Top 5 accuracy is :0.4549950544015826, top-5 accuracy is :0.7492581602373887, many-shot top@5 class-recall : 0.7809310127508657\n",
      "\n",
      "pretrained_distillbert_kldiv_wt150_t10_preds.pickle\n",
      "./../teacher_student_Predictions/student/egtea/pretrained_distillbert_kldiv_wt150_t10_preds.pickle\n",
      "Top 1 accuracy is :0.35638844090410937\n",
      "Top 5 accuracy is :0.4446092977250247, top-5 accuracy is :0.7527200791295747, many-shot top@5 class-recall : 0.7616689404005581\n",
      "\n"
     ]
    }
   ],
   "source": [
    "student_pred_path = \"egtea\"   # epic/egtea\n",
    "root = f'./../teacher_student_Predictions/student/{student_pred_path}'\n",
    "\n",
    "for model in os.listdir(root) :\n",
    "    print(model)\n",
    "    file_name = os.path.join(root, model)\n",
    "    compute_epic_metrics(path=file_name, teacher=False)"
   ]
  },
  {
   "attachments": {},
   "cell_type": "markdown",
   "metadata": {},
   "source": [
    "### Error analysis - Instances where\n",
    "* teacher - right, student-base - wrong, student-distill - right\n",
    "* teacher - right, student-base - wrong, student-distill - wrong\n",
    "* teacher - wrong, student-base - right, student-distill - right\n",
    "* and so on"
   ]
  },
  {
   "cell_type": "code",
   "execution_count": null,
   "metadata": {},
   "outputs": [],
   "source": [
    "res_teacher = compute_epic_metrics(path = './../teacher_pred/epic_55_3/bert_E_9_B_16_T_False_W_False_chpk_1MRecipe_MT_True_hL_5.pkl')\n",
    "res_baseline = compute_epic_metrics(path = './../logit_analysis/EK55/baseline1_preds.pickle', teacher=False)\n",
    "res_distil = compute_epic_metrics(path = './../logit_analysis/distillation/pretrained_alberta_kldiv_top50_wt20_t5_preds.pickle', teacher=False)\n",
    "\n",
    "perf_diff = np.array([ res_baseline[1][k] - res_distil[1][k] for k, v in res_baseline[1].items()])\n",
    "no_instances = np.array([ label_freq[k] for k, v in res_baseline[1].items()])"
   ]
  },
  {
   "cell_type": "code",
   "execution_count": null,
   "metadata": {},
   "outputs": [],
   "source": [
    "# ----------------------------------------\n",
    "# EGTEA-GAZE+ Predictions\n",
    "# ----------------------------------------\n",
    "# with open('./../data/egtea_action_seq/val_action_segments_egtea.pickle', \"rb\") as input_file:\n",
    "#     egtea_input = pickle.load(input_file)\n",
    "\n",
    "# with open('./../logit_analysis/EGTEA/baseline_preds.pickle', \"rb\") as input_file:\n",
    "#     egtea_avt = pickle.load(input_file)\n",
    "\n",
    "# with open('./../logit_analysis/EGTEA/kldiv_bert_wt150_preds.pickle', \"rb\") as input_file:\n",
    "#     egtea_dist = pickle.load(input_file)\n",
    "\n",
    "# with open('./../teacher_pred/egtea_2/bert_E_3_T_False_W_True_chpk_1MRecipe_MT_True_hL_15_SS_True_GS_True.pkl', \"rb\") as input_file:\n",
    "#     egtea_teacher = pickle.load(input_file)\n",
    "\n",
    "# ----------------------------------------\n",
    "# EPIC KITCHEN Predictions\n",
    "# ----------------------------------------\n",
    "with open('./../data/epic55_action_seq/action_segments_val_ek55_complete_hist_with_uid.pickle', \"rb\") as input_file:\n",
    "    epic_input = pickle.load(input_file)\n",
    "\n",
    "with open('./../logit_analysis/EK55/baseline1_preds.pickle', \"rb\") as input_file:\n",
    "    epic_avt = pickle.load(input_file)\n",
    "\n",
    "with open('./../teacher_pred/epic_55_3/alberta_E_7_B_16_T_False_W_False_chpk_1MRecipe_MT_True_hL_5.pkl', \"rb\") as input_file:\n",
    "    epic_teacher = pickle.load(input_file)\n",
    "\n",
    "with open('./../logit_analysis/distillation/pretrained_alberta_kldiv_top50_wt20_t5_preds.pickle', \"rb\") as input_file:\n",
    "    epic_avt_plus_teacher = pickle.load(input_file)\n",
    "\n",
    "epic_avt = {uid: {'logit_avt': logit, 'target': target} for uid, logit, target in zip(epic_avt['uid'], epic_avt['logits'], epic_avt['target'])}\n",
    "epic_teacher = {dict['uid']: dict['logit_action'] for dict in epic_teacher}\n",
    "epic_avt_plus_teacher = {uid: {'logit_dist': logit} for uid, logit in zip(epic_avt_plus_teacher['uid'], epic_avt_plus_teacher['logits'])}"
   ]
  },
  {
   "cell_type": "code",
   "execution_count": null,
   "metadata": {},
   "outputs": [],
   "source": [
    "epic_pred = [{'query_uid': dict['uid'],\n",
    "            'label_history': [labels_mapping[x]['label'] for x in dict['history'][0]], \n",
    "            'uid_history': dict['uid_history'][0], \n",
    "            'target': dict['target'], \n",
    "            'logit_avt': epic_avt[dict['uid']]['logit_avt'],\n",
    "            'pred_avt': np.argmax(epic_avt[dict['uid']]['logit_avt']),\n",
    "            'pred_avt_top5': np.argsort(-epic_avt[dict['uid']]['logit_avt'])[:5],\n",
    "            'logit_avt_plus_teacher': epic_avt_plus_teacher[dict['uid']]['logit_dist'],\n",
    "            'pred_avt_plus_teacher': np.argmax(epic_avt_plus_teacher[dict['uid']]['logit_dist']),\n",
    "            'pred_avt_plus_teacher_top5': np.argsort(-epic_avt_plus_teacher[dict['uid']]['logit_dist'])[:5],\n",
    "            'logit_teacher': epic_teacher[dict['uid']].reshape(-1),\n",
    "            'pred_teacher': np.argmax(epic_teacher[dict['uid']].reshape(-1)),\n",
    "            'pred_teacher_top5': np.argsort(-epic_teacher[dict['uid']].reshape(-1))[:5]} \n",
    "            for dict in epic_input\n",
    "            if dict['uid'] in epic_avt.keys()]\n",
    "epic_pred_df = pd.DataFrame.from_dict(epic_pred, orient='columns')"
   ]
  },
  {
   "cell_type": "code",
   "execution_count": null,
   "metadata": {},
   "outputs": [],
   "source": [
    "mappings = pd.read_csv('./../epic/epic-kitchens-55-annotations-master/EPIC_train_action_labels.csv')\n",
    "epic_pred_df = epic_pred_df.merge(mappings, left_on='query_uid', right_on='uid', how='left')"
   ]
  },
  {
   "cell_type": "code",
   "execution_count": null,
   "metadata": {},
   "outputs": [],
   "source": [
    "epic_pred_df.loc[:, 'target_txt'] = epic_pred_df.loc[:, 'target'].apply(lambda x: labels_mapping[x]['label'])\n",
    "epic_pred_df.loc[:, 'pred_avt_top5_txt'] = epic_pred_df.loc[:, 'pred_avt_top5'].apply(lambda x: [labels_mapping[y]['label'] for y in x])\n",
    "epic_pred_df.loc[:, 'pred_teacher_top5_txt'] = epic_pred_df.loc[:, 'pred_teacher_top5'].apply(lambda x: [labels_mapping[y]['label'] for y in x])\n",
    "epic_pred_df.loc[:, 'pred_avt_plus_teacher_top5_txt'] = epic_pred_df.loc[:, 'pred_avt_plus_teacher_top5'].apply(lambda x: [labels_mapping[y]['label'] for y in x])"
   ]
  },
  {
   "cell_type": "code",
   "execution_count": null,
   "metadata": {},
   "outputs": [],
   "source": [
    "epic_pred_df_base_w_teach_c_distil_c = epic_pred_df.loc[epic_pred_df.apply(lambda x: (x['target'] not in np.array(x['pred_avt_top5']))\n",
    "                                                                                     and (x['target'] in np.array(x['pred_teacher_top5']))\n",
    "                                                                                     and (x['target'] in np.array(x['pred_avt_plus_teacher_top5']))\n",
    "                                                                                    , axis = 1), :]\n",
    "epic_pred_df_base_w_teach_c_distil_c.loc[:, 'error_type'] = 'base_w_teach_c_distil_c'\n",
    "\n",
    "epic_pred_df_base_w_teach_c_distil_w = epic_pred_df.loc[epic_pred_df.apply(lambda x: (x['target'] not in np.array(x['pred_avt_top5']))\n",
    "                                                                                     and (x['target'] in np.array(x['pred_teacher_top5']))\n",
    "                                                                                     and (x['target'] not in np.array(x['pred_avt_plus_teacher_top5']))\n",
    "                                                                                    , axis = 1), :]\n",
    "epic_pred_df_base_w_teach_c_distil_w.loc[:, 'error_type'] = 'base_w_teach_c_distil_w'\n",
    "\n",
    "epic_pred_df_base_w_teach_w_distil_w = epic_pred_df.loc[epic_pred_df.apply(lambda x: (x['target'] not in np.array(x['pred_avt_top5']))\n",
    "                                                                                     and (x['target'] not in np.array(x['pred_teacher_top5']))\n",
    "                                                                                     and (x['target'] not in np.array(x['pred_avt_plus_teacher_top5']))\n",
    "                                                                                    , axis = 1), :]\n",
    "epic_pred_df_base_w_teach_w_distil_w.loc[:, 'error_type'] = 'base_w_teach_w_distil_w'\n",
    "\n",
    "epic_pred_df_base_c_teach_w_distil_w = epic_pred_df.loc[epic_pred_df.apply(lambda x: (x['target'] in np.array(x['pred_avt_top5']))\n",
    "                                                                                     and (x['target'] not in np.array(x['pred_teacher_top5']))\n",
    "                                                                                     and (x['target'] not in np.array(x['pred_avt_plus_teacher_top5']))\n",
    "                                                                                    , axis = 1), :]\n",
    "epic_pred_df_base_c_teach_w_distil_w.loc[:, 'error_type'] = 'base_c_teach_w_distil_w'"
   ]
  },
  {
   "cell_type": "code",
   "execution_count": null,
   "metadata": {},
   "outputs": [],
   "source": [
    "error_df = pd.concat([epic_pred_df_base_w_teach_c_distil_c, epic_pred_df_base_w_teach_c_distil_w, epic_pred_df_base_w_teach_w_distil_w, epic_pred_df_base_c_teach_w_distil_w], axis=0)\n",
    "error_df.to_csv('./../examples/error.csv', index=False)\n",
    "epic_pred_df.to_csv('./../examples/full_df.csv', index = False)"
   ]
  },
  {
   "cell_type": "code",
   "execution_count": null,
   "metadata": {},
   "outputs": [],
   "source": [
    "epic_pred_df_base_w_teach_c_distil_c.to_csv('./../examples/epic_pred_df_base_w_teach_c_distil_c.csv', index=False)\n",
    "epic_pred_df_base_w_teach_c_distil_w.to_csv('./../examples/epic_pred_df_base_w_teach_c_distil_w.csv', index=False)\n",
    "epic_pred_df_base_w_teach_w_distil_w.to_csv('./../examples/epic_pred_df_base_w_teach_w_distil_w.csv', index=False)\n",
    "epic_pred_df_base_c_teach_w_distil_w.to_csv('./../examples/epic_pred_df_base_c_teach_w_distil_w.csv', index=False)\n",
    "epic_pred_df.to_csv('./../examples/epic_pred_df.csv', index=False)\n",
    "epic_pred_df_base_w_teach_c_distil_c.shape, epic_pred_df_base_w_teach_c_distil_w.shape, epic_pred_df_base_w_teach_w_distil_w.shape, epic_pred_df_base_c_teach_w_distil_w.shape"
   ]
  },
  {
   "attachments": {},
   "cell_type": "markdown",
   "metadata": {},
   "source": [
    "### <u>Performance computation for both teacher & student</u>"
   ]
  },
  {
   "cell_type": "code",
   "execution_count": null,
   "metadata": {},
   "outputs": [],
   "source": [
    "def compute_epic_metrics(path, teacher = True):\n",
    "    with open(path, \"rb\") as input_file:\n",
    "        epic_pred = pickle.load(input_file)\n",
    "\n",
    "    if teacher == False:\n",
    "        logit = epic_pred['logits']\n",
    "        pred = logit.argmax( axis  = 1)\n",
    "        target = epic_pred['target']\n",
    "    else:\n",
    "        target = np.array([dict['target'] for dict in epic_pred])\n",
    "        logit = np.concatenate([dict['logit_action'].reshape(1, -1) for dict in epic_pred])\n",
    "        pred = np.argmax(logit, axis = 1)\n",
    "\n",
    "    K = 5\n",
    "    class_recall_list= []\n",
    "    class_recall_dict = {}\n",
    "\n",
    "    acc = np.mean(pred == target)\n",
    "    top_K_acc = np.mean([t in (-p).argsort()[:K] for t, p in zip(target, logit)])\n",
    "\n",
    "    many_shot_labels_in_test = np.array(list(set(many_shot_labels).intersection(set(target))))\n",
    "    for c in many_shot_labels_in_test:\n",
    "        target_subset = target[target == c]\n",
    "        logit_subset = logit[target == c]\n",
    "        no_of_class_instances = len(target_subset)\n",
    "\n",
    "        recall = np.mean([t in (-l).argsort()[:K]  for t, l in zip(target_subset, logit_subset)])\n",
    "        class_recall_dict[c] = recall\n",
    "\n",
    "        class_recall_list.append(recall)\n",
    "\n",
    "    many_shot_recall = np.mean(class_recall_list)\n",
    "    res_dict = {'Top_1_acc': acc, 'top_5_acc' :top_K_acc, 'm_shot_cm_recall' : many_shot_recall}\n",
    "    print(path)\n",
    "\n",
    "    conf_matrix = confusion_matrix(target, pred)\n",
    "    class_wise_acc = conf_matrix.diagonal()/conf_matrix.sum(1)\n",
    "    mean_class_acc = np.nanmean(class_wise_acc)\n",
    "\n",
    "    print(f'Top 1 accuracy is :{mean_class_acc}')\n",
    "    print(f'Top 5 accuracy is :{acc}, top-5 accuracy is :{top_K_acc}, many-shot top@5 class-recall : {many_shot_recall}\\n')\n",
    "    return res_dict, class_recall_dict"
   ]
  },
  {
   "cell_type": "code",
   "execution_count": null,
   "metadata": {},
   "outputs": [],
   "source": [
    "from collections import Counter\n",
    "\n",
    "with open('./../teacher_pred/epic_55_3/bert_E_9_B_16_T_True_W_False_chpk_1MRecipe_MT_True_hL_5.pkl', \"rb\") as input_file:\n",
    "    tr_dat = pickle.load(input_file)\n",
    "tr_labels = [v['target'] for v in tr_dat]\n",
    "label_freq = Counter(tr_labels)"
   ]
  },
  {
   "cell_type": "code",
   "execution_count": null,
   "metadata": {},
   "outputs": [],
   "source": [
    "res_teacher = compute_epic_metrics(path = './../teacher_pred/epic_55_3/bert_E_9_B_16_T_False_W_False_chpk_1MRecipe_MT_True_hL_5.pkl')\n",
    "res_baseline = compute_epic_metrics(path = './../logit_analysis/EK55/baseline1_preds.pickle', teacher=False)\n",
    "res_distil = compute_epic_metrics(path = './../logit_analysis/distillation/pretrained_alberta_kldiv_top50_wt20_t5_preds.pickle', teacher=False)\n",
    "\n",
    "perf_diff = np.array([ res_baseline[1][k] - res_distil[1][k] for k, v in res_baseline[1].items()])\n",
    "no_instances = np.array([ label_freq[k] for k, v in res_baseline[1].items()])"
   ]
  },
  {
   "cell_type": "code",
   "execution_count": null,
   "metadata": {},
   "outputs": [],
   "source": [
    "teacher_pred_path = \"epic\"   # or epic/egtea\n",
    "model_name = ['alberta', 'bert', 'roberta', 'electra', 'distillbert']\n",
    "for model in model_name:\n",
    "    file_name = f'./../teacher_student_Predictions/teacher/{teacher_pred_path}/{model}_E_7_B_16_T_False_W_False_chpk_1MRecipe_MT_True_hL_5.pkl'\n",
    "    # file_name = f'./../teacher_student_Predictions/teacher/{teacher_pred_path}/{model}_E_5_T_False_W_True_chpk_1MRecipe_MT_True_hL_15_SS_True_GS_True.pkl'\n",
    "    compute_epic_metrics(path=file_name, teacher=True)\n"
   ]
  },
  {
   "attachments": {},
   "cell_type": "markdown",
   "metadata": {},
   "source": [
    "### Compute performance"
   ]
  },
  {
   "attachments": {},
   "cell_type": "markdown",
   "metadata": {},
   "source": [
    "### Covariance analysis"
   ]
  },
  {
   "cell_type": "code",
   "execution_count": null,
   "metadata": {},
   "outputs": [],
   "source": [
    "logit_corr = np.corrcoef(torch.softmax(torch.tensor(logit), dim=0).numpy().transpose())"
   ]
  },
  {
   "cell_type": "code",
   "execution_count": null,
   "metadata": {},
   "outputs": [],
   "source": [
    "corr_analysis_dict = []\n",
    "for k, v in labels_mapping_manyshot.items():\n",
    "    dict_temp = {}\n",
    "    dict_temp['label'] = v['label']\n",
    "\n",
    "    corr_row = (-logit_corr[k, :]).argsort()[1:6]\n",
    "    corr_row = [labels_mapping[label_id]['label'] for label_id in corr_row]\n",
    "    dict_temp['correlated_labels'] = corr_row\n",
    "    corr_analysis_dict.append(dict_temp)\n",
    "pd.DataFrame(corr_analysis_dict).to_csv('./../logit_analysis/base_student_correlated_labels.csv', index = False)"
   ]
  },
  {
   "cell_type": "code",
   "execution_count": null,
   "metadata": {},
   "outputs": [],
   "source": [
    "print(pd.DataFrame(corr_analysis_dict))"
   ]
  },
  {
   "cell_type": "code",
   "execution_count": null,
   "metadata": {},
   "outputs": [],
   "source": []
  }
 ],
 "metadata": {
  "interpreter": {
   "hash": "f314181c9fc9e4fa44d3ed7316e48f8ea8a467e5e038a58649ec24bc900c41d5"
  },
  "kernelspec": {
   "display_name": "Python 3.6.10 ('Pytorch')",
   "language": "python",
   "name": "python3"
  },
  "language_info": {
   "codemirror_mode": {
    "name": "ipython",
    "version": 3
   },
   "file_extension": ".py",
   "mimetype": "text/x-python",
   "name": "python",
   "nbconvert_exporter": "python",
   "pygments_lexer": "ipython3",
   "version": "3.6.10"
  },
  "orig_nbformat": 4
 },
 "nbformat": 4,
 "nbformat_minor": 2
}
